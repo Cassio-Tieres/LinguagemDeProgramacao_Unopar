{
  "nbformat": 4,
  "nbformat_minor": 0,
  "metadata": {
    "colab": {
      "provenance": [],
      "collapsed_sections": [
        "Y6aDn41VAsC6",
        "sp5k2Jw1BRs5"
      ],
      "authorship_tag": "ABX9TyOWjfcE7F2i7MtE4hYGGxTn",
      "include_colab_link": true
    },
    "kernelspec": {
      "name": "python3",
      "display_name": "Python 3"
    },
    "language_info": {
      "name": "python"
    }
  },
  "cells": [
    {
      "cell_type": "markdown",
      "metadata": {
        "id": "view-in-github",
        "colab_type": "text"
      },
      "source": [
        "<a href=\"https://colab.research.google.com/github/Cassio-Tieres/LinguagemDeProgramacao_Unopar/blob/main/Linguagem_de_Programa%C3%A7%C3%A3o.ipynb\" target=\"_parent\"><img src=\"https://colab.research.google.com/assets/colab-badge.svg\" alt=\"Open In Colab\"/></a>"
      ]
    },
    {
      "cell_type": "code",
      "source": [
        "# imprimir \"hello world\"\n",
        "print(\"hello world\")"
      ],
      "metadata": {
        "colab": {
          "base_uri": "https://localhost:8080/"
        },
        "id": "H2yCwWi0rqLZ",
        "outputId": "d552f16c-99bf-47e9-b104-7e28fe881b1f"
      },
      "execution_count": null,
      "outputs": [
        {
          "output_type": "stream",
          "name": "stdout",
          "text": [
            "hello world\n"
          ]
        }
      ]
    },
    {
      "cell_type": "markdown",
      "source": [
        "# Variáveis e Tipos de dados básicos em Py\n",
        "\n",
        "* Variáveis são espaços armazenados temporariamente na memória RAM do computador.\n",
        "\n",
        "* Em py, esses espaços não precisam ser tipados, a variável pode ser alocada sem especificar o tipo de dado que ela guardará.\n",
        "\n",
        "* As variáveis são tipadas dinamicamente nessa linguagem"
      ],
      "metadata": {
        "id": "PL4eEI_jw83-"
      }
    },
    {
      "cell_type": "markdown",
      "source": [
        "Exemplos para saber o tipo de dado que uma variável garda.\n",
        "Vamos utilizar a função type():"
      ],
      "metadata": {
        "id": "mfrLhbbHyD9d"
      }
    },
    {
      "cell_type": "code",
      "source": [
        "x = 10\n",
        "nome = \"Teste\"\n",
        "nota = 8.5\n",
        "flag = True\n",
        "\n",
        "print(type(x))\n",
        "print(type(nome))\n",
        "print(type(nota))\n",
        "print(type(flag))"
      ],
      "metadata": {
        "colab": {
          "base_uri": "https://localhost:8080/"
        },
        "id": "_xYMfn4byKiV",
        "outputId": "94ce23af-378a-489f-c17a-0a129f0c0506"
      },
      "execution_count": null,
      "outputs": [
        {
          "output_type": "stream",
          "name": "stdout",
          "text": [
            "<class 'int'>\n",
            "<class 'str'>\n",
            "<class 'float'>\n",
            "<class 'bool'>\n"
          ]
        }
      ]
    },
    {
      "cell_type": "markdown",
      "source": [
        "Em pytho, tudo é um objeto.\n",
        "\n",
        "Veja que na resposta acima, todas as impressões são classes.\n",
        "\n",
        "* Funão input\n",
        "-> Faz a leitura de um valor de usuário digitado pelo usuário."
      ],
      "metadata": {
        "id": "DSaskpURyoE1"
      }
    },
    {
      "cell_type": "code",
      "source": [
        "nome = input(\"Digite um nome: \")\n",
        "print(nome)"
      ],
      "metadata": {
        "colab": {
          "base_uri": "https://localhost:8080/"
        },
        "id": "v0uv3LXqy4zc",
        "outputId": "cc855223-c8ce-4655-fda4-3cf548cda455"
      },
      "execution_count": null,
      "outputs": [
        {
          "output_type": "stream",
          "name": "stdout",
          "text": [
            "Digite um nome: Beth Harmon\n",
            "Beth Harmon\n"
          ]
        }
      ]
    },
    {
      "cell_type": "markdown",
      "source": [
        "Existem algumas maneiras diferentes de imprimirmos textos e variáveis em python.\n",
        "\n",
        "1. Podemos usar formatadores de caracteres (como em C)\n",
        "2. Podemos usar a função format()\n",
        "3. Podemos criar uma string formatada"
      ],
      "metadata": {
        "id": "Hegv3nzIz04d"
      }
    },
    {
      "cell_type": "code",
      "source": [
        "# Usando formatadores de caracteres\n",
        "nome = input(\"Digite um nome: \")\n",
        "print (\"Olá %s, bem vindo a disciplina de programação. Parabéns pelo seu primeiro hello world\" % (nome));"
      ],
      "metadata": {
        "colab": {
          "base_uri": "https://localhost:8080/"
        },
        "id": "MP0Iu58T0Hbs",
        "outputId": "686f98a4-0b30-432b-d6e7-37f920088ca3"
      },
      "execution_count": null,
      "outputs": [
        {
          "output_type": "stream",
          "name": "stdout",
          "text": [
            "Digite um nome: Cássio\n",
            "Olá Cássio, bem vindo a disciplina de programação. Parabéns pelo seu primeiro hello world\n"
          ]
        }
      ]
    },
    {
      "cell_type": "code",
      "source": [
        "# Usando a função format()\n",
        "nome = input(\"Digite um nome: \")\n",
        "print (\"Olá {0}, bem vindo a disciplina de programação. Parabéns pelo seu primeiro hello world\".format(nome));"
      ],
      "metadata": {
        "colab": {
          "base_uri": "https://localhost:8080/"
        },
        "id": "ZcC_U9zj0amF",
        "outputId": "771ad29c-d332-4ffe-92b6-748252b44062"
      },
      "execution_count": null,
      "outputs": [
        {
          "output_type": "stream",
          "name": "stdout",
          "text": [
            "Digite um nome: Cássio\n",
            "Olá Cássio, bem vindo a disciplina de programação. Parabéns pelo seu primeiro hello world\n"
          ]
        }
      ]
    },
    {
      "cell_type": "code",
      "source": [
        "# Usando string formatada\n",
        "nome = input(\"Digite um nome: \")\n",
        "print (f\"Olá {nome}, bem vindo a disciplina de programação. Parabéns pelo seu primeiro hello world\");"
      ],
      "metadata": {
        "colab": {
          "base_uri": "https://localhost:8080/"
        },
        "id": "Nb0WHN_I0jtc",
        "outputId": "e9044b8f-50ae-48a4-e385-7f66d3881be2"
      },
      "execution_count": null,
      "outputs": [
        {
          "output_type": "stream",
          "name": "stdout",
          "text": [
            "Digite um nome: Cássio\n",
            "Olá Cássio, bem vindo a disciplina de programação. Parabéns pelo seu primeiro hello world\n"
          ]
        }
      ]
    },
    {
      "cell_type": "markdown",
      "source": [
        "# Operações matemáticas suportadas pelo python\n",
        "\n",
        "Com exceção das funções abs() e pow() e da notação de potência (**), as outras operações e sintaxes são similares a diversas linguagens de programação."
      ],
      "metadata": {
        "id": "Y6aDn41VAsC6"
      }
    },
    {
      "cell_type": "markdown",
      "source": [
        "# implementando Soluções em Python Mediante Funções\n",
        "\n",
        "As funções, além de serem boas práticas na programação, também facilita a leitura, a manutenção e a escalabilidade da solução.\n",
        "\n",
        "* print() é uma função built-in do interpretador Python\n",
        "\n",
        "Built-in: é uma função existente do python. É uma função já integrado ao núcleo do interpretador. Não precisa ser feita nenhuma instalação adicional."
      ],
      "metadata": {
        "id": "sp5k2Jw1BRs5"
      }
    },
    {
      "cell_type": "markdown",
      "source": [
        "# Função eval()\n",
        "\n",
        "Esta fução recebe como uma entrada uma string digitada pelo usuário.\n",
        "\n",
        "Essa entrada é analisada e avaliada como uma expressão Python pela função eval(). Veja que para cada valor x, a função é executada como uma expressão matemática e retorna um valor diferente. Prudência para o uso, pois é fácil alguém externo a aplicação fazer uma \"injection\" de código de intruso.\n",
        "\n",
        "\n",
        "Código abaixo:"
      ],
      "metadata": {
        "id": "6ev0AmzTDFSh"
      }
    },
    {
      "cell_type": "code",
      "source": [
        "a = 2\n",
        "b = 1\n",
        "\n",
        "eqs = input(\"Digite a fórmula geral da equação linear (a * x + b): \")\n",
        "print(f\"\\nA entrada do usuário ({eqs}) é do tipo {type(eqs)}\")\n",
        "\n",
        "for x in range(5):\n",
        "  y = eval(eqs)\n",
        "  print(f\"\\nResultado da equação para x = {x} é {y}\")"
      ],
      "metadata": {
        "colab": {
          "base_uri": "https://localhost:8080/"
        },
        "id": "JxWXq6fFEEwA",
        "outputId": "287a0d77-d466-487f-c964-12ff4fdc2b8b"
      },
      "execution_count": null,
      "outputs": [
        {
          "output_type": "stream",
          "name": "stdout",
          "text": [
            "Digite a fórmula geral da equação linear (a * x + b): (a * x + b)\n",
            "\n",
            "A entrada do usuário ((a * x + b)) é do tipo <class 'str'>\n",
            "\n",
            "Resultado da equação para x = 0 é 1\n",
            "\n",
            "Resultado da equação para x = 1 é 3\n",
            "\n",
            "Resultado da equação para x = 2 é 5\n",
            "\n",
            "Resultado da equação para x = 3 é 7\n",
            "\n",
            "Resultado da equação para x = 4 é 9\n"
          ]
        }
      ]
    },
    {
      "cell_type": "markdown",
      "source": [
        "#define funções"
      ],
      "metadata": {
        "id": "HUrqsjUae9H8"
      }
    },
    {
      "cell_type": "code",
      "source": [
        "def imprimir_mensagens(disciplina, curso):\n",
        "  print(f'Minha primeira função em Python desenvolvida na disciplina {disciplina}, do curso de {curso}')\n",
        "\n",
        "imprimir_mensagens(\"Python\", \"ADS\")"
      ],
      "metadata": {
        "colab": {
          "base_uri": "https://localhost:8080/"
        },
        "id": "3zTN5lsofAzs",
        "outputId": "a58eb393-e40b-4373-e775-fc6683f169f2"
      },
      "execution_count": null,
      "outputs": [
        {
          "output_type": "stream",
          "name": "stdout",
          "text": [
            "Minha primeira função em Python desenvolvida na disciplina Python, do curso de ADS\n"
          ]
        }
      ]
    },
    {
      "cell_type": "code",
      "source": [
        "# Parâmetro posicional, obrigatório, com valor default (padrão),\n",
        "# quando a função for invocada, caso nenhum valor seja passado, o valor default é utilizado\n",
        "\n",
        "def calcular_desconto(valor, desconto=0):\n",
        "    valor_com_desconto = valor - (valor * desconto)\n",
        "    return valor_com_desconto\n",
        "\n",
        "valor1 = calcular_desconto(100) #não passou nenhum valor para desconto\n",
        "valor2 = calcular_desconto(100, 0.25)\n",
        "\n",
        "print(f'Primeiro valor a ser pago = {valor1}')\n",
        "print(f'\\nSegundo valor a ser pago = {valor2}')"
      ],
      "metadata": {
        "id": "2wYfSzxnfuTU"
      },
      "execution_count": null,
      "outputs": []
    },
    {
      "cell_type": "markdown",
      "source": [
        "* Parametro posicional e não obrigatório (args), a passagem de valores é feita de modo posicional, porém a quantidade não é conhecida."
      ],
      "metadata": {
        "id": "a3xYd9MLkPqA"
      }
    },
    {
      "cell_type": "code",
      "source": [
        "def imprimir_parametros(*args):\n",
        "  qtde_parametros = len(args)\n",
        "  print(f'Quantidade de paramêtros = {qtde_parametros}')\n",
        "\n",
        "  for i, valor in enumerate(args):\n",
        "    print(f'Posição {i}, valor = {valor}')\n",
        "  \n",
        "print('\\nChamada 1')\n",
        "imprimir_parametros('São Paulo', 10,23.78, \"Cássio\")\n",
        "print('\\nChamada 2')\n",
        "imprimir_parametros(10, 'São Paulo')\n"
      ],
      "metadata": {
        "colab": {
          "base_uri": "https://localhost:8080/"
        },
        "id": "yzgWjCM7kOKw",
        "outputId": "eca40e03-4eda-4d83-e448-296052116bed"
      },
      "execution_count": null,
      "outputs": [
        {
          "output_type": "stream",
          "name": "stdout",
          "text": [
            "\n",
            "Chamada 1\n",
            "Quantidade de paramêtros = 4\n",
            "Posição 0, valor = São Paulo\n",
            "Posição 1, valor = 10\n",
            "Posição 2, valor = 23.78\n",
            "Posição 3, valor = Cássio\n",
            "\n",
            "Chamada 2\n",
            "Quantidade de paramêtros = 2\n",
            "Posição 0, valor = 10\n",
            "Posição 1, valor = São Paulo\n"
          ]
        }
      ]
    },
    {
      "cell_type": "markdown",
      "source": [
        "### Funções anônimas\n",
        "\n",
        "São funções que não é construída com def e, por isso, não possui nome. Esse tipo de construção é útil, quando a função faz somente uma ação e é usada uma única vez.\n",
        "\n",
        "Temos, por exemplo, a expressão Lambda:"
      ],
      "metadata": {
        "id": "fsq7sxH5lSS_"
      }
    },
    {
      "cell_type": "code",
      "source": [
        "somar = lambda x, y: x + y\n",
        "somar(x = 5, y = 3)"
      ],
      "metadata": {
        "colab": {
          "base_uri": "https://localhost:8080/"
        },
        "id": "BPZFOf0TlSB3",
        "outputId": "d90b37ad-538d-40a6-b0d1-69684cb4a568"
      },
      "execution_count": null,
      "outputs": [
        {
          "output_type": "execute_result",
          "data": {
            "text/plain": [
              "8"
            ]
          },
          "metadata": {},
          "execution_count": 15
        }
      ]
    },
    {
      "cell_type": "markdown",
      "source": [
        "# Estruturas lógicas, condicionais e repetições em python\n",
        "\n",
        "\n",
        "\n",
        "\n",
        "## Estrutura composta:\n",
        "\n",
        "É quando só existem dois caminhos para uma condicional (if e else)\n",
        "\n",
        "## Estrutura Encadeada:\n",
        "\n",
        "Acontece quando temos mais de dois caminhos em uma condicional e temos que criar mais uma condição (if, elif e else)\n",
        "\n",
        "\n",
        "\n",
        "## Estruras lógicas\n",
        "\n",
        "Em python as estruturas lógicas são escritas dessa forma\n",
        "* && = and\n",
        "* || = or\n",
        "* ! = not\n",
        "\n",
        "\n",
        "# Estrutura de repetição\n",
        "\n",
        "Em uma estrutura de repetição sempre haverá uma estrutura de decisão, pois a repetição de um trecho de código sempre está associada a uma condição. Ou seja, um bloco de comandos será executado repetidas vezes, até que uma condição não seja mais satisfeita.\n",
        "\n",
        "\n",
        "## While\n",
        "\n",
        "A estrutura while deve ser utilizado para construir e controlar estrutura de decisão, sempre que o número de repetições não seja conhecido."
      ],
      "metadata": {
        "id": "_iLbT2r6YVN8"
      }
    },
    {
      "cell_type": "code",
      "source": [
        "# exemplo de while\n",
        "\n",
        "numero = 1\n",
        "\n",
        "while numero != 0:\n",
        "\n",
        "  numero = int(input('Digite um número: '))\n",
        "\n",
        "  if numero % 2 == 0:\n",
        "    print('Número par')\n",
        "  else: \n",
        "    print(\"Numero impar\")"
      ],
      "metadata": {
        "id": "OylwmMZOc28y",
        "colab": {
          "base_uri": "https://localhost:8080/"
        },
        "outputId": "95fe3e46-641c-4d1e-a623-ec856590885c"
      },
      "execution_count": null,
      "outputs": [
        {
          "output_type": "stream",
          "name": "stdout",
          "text": [
            "Digite um número: 9\n",
            "Numero impar\n",
            "Digite um número: 8\n",
            "Número par\n",
            "Digite um número: 0\n",
            "Número par\n"
          ]
        }
      ]
    },
    {
      "cell_type": "markdown",
      "source": [
        "## For\n",
        "\n",
        "O comando for seguido da variável de controle \"c\", na sequência o comando in e por fim, a sequência sobre a qual a estrutura deve iterar. Os dois pontos marcam o início do bloco que deve ser repetido.\n",
        "\n",
        "Os dois pontos marcam o início do bloco de código que deve ser repetido."
      ],
      "metadata": {
        "id": "6qe2ESb5qUFu"
      }
    },
    {
      "cell_type": "code",
      "source": [
        "nome = \"Bilbo\"\n",
        "for i in nome:\n",
        "  print(i)"
      ],
      "metadata": {
        "colab": {
          "base_uri": "https://localhost:8080/"
        },
        "id": "ia57yu6eqitp",
        "outputId": "2cbc570b-1863-4090-8652-37e704b845dc"
      },
      "execution_count": null,
      "outputs": [
        {
          "output_type": "stream",
          "name": "stdout",
          "text": [
            "B\n",
            "i\n",
            "l\n",
            "b\n",
            "o\n"
          ]
        }
      ]
    },
    {
      "cell_type": "markdown",
      "source": [
        "### Enumerate no laço for\n",
        "\n",
        "Podemos usar a função enumerate() para retornar à posição de cada item, dentro da sequência."
      ],
      "metadata": {
        "id": "DpZ1eim8rWUN"
      }
    },
    {
      "cell_type": "code",
      "source": [
        "nomes = ['Cássio Tieres', 'Milena Modesto']\n",
        "for key, nome in enumerate(nomes):\n",
        "  print(f\"A chave: {key} indica o nome {nome}\")"
      ],
      "metadata": {
        "colab": {
          "base_uri": "https://localhost:8080/"
        },
        "id": "pFRgt0jEr0uy",
        "outputId": "624e09a3-d220-4d75-cd7f-74b0c6b9074c"
      },
      "execution_count": null,
      "outputs": [
        {
          "output_type": "stream",
          "name": "stdout",
          "text": [
            "A chave: 0 indica o nome Cássio Tieres\n",
            "A chave: 1 indica o nome Milena Modesto\n"
          ]
        }
      ]
    },
    {
      "cell_type": "markdown",
      "source": [
        "### Controle de repetição com range, break e continue\n",
        "\n",
        "Python requer uma sequência para que ocorra a iteração. Para criar uma sequência numérica de iteração em Python, podemos usar a runção range()"
      ],
      "metadata": {
        "id": "q4ni8ptPsxmO"
      }
    },
    {
      "cell_type": "code",
      "source": [
        "for x in range(5):\n",
        "  print(x)"
      ],
      "metadata": {
        "colab": {
          "base_uri": "https://localhost:8080/"
        },
        "id": "NL2mEfDbs_SV",
        "outputId": "61633b5f-f245-4970-f9f2-a8cd6feb7663"
      },
      "execution_count": null,
      "outputs": [
        {
          "output_type": "stream",
          "name": "stdout",
          "text": [
            "0\n",
            "1\n",
            "2\n",
            "3\n",
            "4\n"
          ]
        }
      ]
    },
    {
      "cell_type": "markdown",
      "source": [
        "A função range pode ser usado de 3 formas distintas;\n",
        "\n",
        "1. passando um único argumento que representa a quantidade de vezes que o laço deve repetir;\n",
        "2. passando dois argumentos, um que representa o início das repetições e outro o limite superio (NÃO INCLUÍDO) do valor da variável de controle;\n",
        "3. passando três argumentos, um que representa o início das repetições, outro que representa o limite superior (NÃO INCLUÍDO) do valor da variável de controle e um que representa o incremento."
      ],
      "metadata": {
        "id": "ogHDRelrwsDM"
      }
    },
    {
      "cell_type": "markdown",
      "source": [
        "# Estrutura de Dados em Python\n",
        "\n",
        "Existem objetos que podemos armazenar mais de um valor, chamamos esses objetos de estruturas de dados.\n",
        "\n",
        "Tudo em Python é objeto. Já conhecemos alguns tipos de objetos em Python, tais como o int, str, o float. Os tipos estruturais de dados são: listas, tuplas, conjuntos, dicionários e matriz.\n",
        "\n",
        "Ordem de estudo:\n",
        "* Objetos do tipo sequência: texto, listas e tuplas\n",
        "* Objetos do tipo set (conjunto)\n",
        "* Objetos do tipo mapping (dicionário)\n",
        "* Objetos do tipo array NumPy\n",
        "\n",
        "\n",
        "Exemplo de Sequência de caracteres\n",
        "\n",
        "Um texto é um objeto da classe str (strings), que é um tipo de sequência. Os objetos da classe str possuem todas as operações, mas são objetos imutáveis, razão pela qual não é possível atribuir um novo valor a uma posição específica."
      ],
      "metadata": {
        "id": "DwBuphO7mlpm"
      }
    },
    {
      "cell_type": "markdown",
      "source": [
        "## Algoritmos de busca: parte 1\n",
        "\n",
        "Como o nome sugere, os algoritmos de busca resolvem problemas relacionados ao encontro de valores em uma estrutura de dados.\n",
        "\n",
        "Em python, temos a operação \"in\" ou \"not in\" usada para veririfcar se um valor está em uma sequência:"
      ],
      "metadata": {
        "id": "qR6xLhmPIEw4"
      }
    },
    {
      "cell_type": "code",
      "source": [
        "nomes = \"joão marcela sonia daryl vernon eder mechelle edan igor ethan reed travis hoyt\".split()\n",
        "\n",
        "print('marcela' in nomes)\n",
        "print('cassio' in nomes)"
      ],
      "metadata": {
        "id": "oyxU-nm-2mdg",
        "colab": {
          "base_uri": "https://localhost:8080/"
        },
        "outputId": "6d3924d5-a083-4a8a-8fc2-eb226e0ee0c7"
      },
      "execution_count": null,
      "outputs": [
        {
          "output_type": "stream",
          "name": "stdout",
          "text": [
            "True\n",
            "True\n"
          ]
        }
      ]
    },
    {
      "cell_type": "markdown",
      "source": [
        "No exemplo acima, verificamos se esses dois nomes estão na lista.\n",
        "\n",
        "### Busca linear (ou busca sequencial)\n",
        "\n",
        "Percorre os elementos da sequência procurando aquele de destino (item específico), começa por uma das extremidades da sequência e vai percorrendo até encontrar (ou não) o valor desejado. Pesquisa linear examina todos os elementos da sequência até encontrar o de destino, o que pode ser muito custoso computacionalmente.\n",
        "\n",
        "Para implementar uma busca linear, precisamos de uma estrutura de repetição (for) para percorrer a sequência, e uma estrutura de decisão (if) para verificar se o valor em uma determinada posição é o que procuramos."
      ],
      "metadata": {
        "id": "-agI2FQBJLCE"
      }
    },
    {
      "cell_type": "code",
      "source": [
        "def executa_busca_linear(lista, valor):\n",
        "  separacao = lista.split() #professora esqueceu disso\n",
        "  for elemento in separacao:\n",
        "    if valor == elemento:\n",
        "      return True\n",
        "    return False\n",
        "\n",
        "executa_busca_linear('voce e eu', 'voce')"
      ],
      "metadata": {
        "colab": {
          "base_uri": "https://localhost:8080/"
        },
        "id": "4hKWQfkD0Kxy",
        "outputId": "32d3d6ab-4320-446e-fc21-2ac0e611e844"
      },
      "execution_count": null,
      "outputs": [
        {
          "output_type": "stream",
          "name": "stdout",
          "text": [
            "Posição = 0\n"
          ]
        },
        {
          "output_type": "execute_result",
          "data": {
            "text/plain": [
              "True"
            ]
          },
          "metadata": {},
          "execution_count": 2
        }
      ]
    },
    {
      "cell_type": "markdown",
      "source": [
        "E se, no entanto, quiséssemos saber o seu valor na sequência?\n",
        "\n",
        "Em Python, as estruturas de dados do tipo sequência possuem a função index(), que é usada da seguinte forma:\n",
        "\n",
        "sequencia.index(valor)\n",
        "\n",
        "A função index espera como parametro o valor a ser procurado na sequência."
      ],
      "metadata": {
        "id": "0l4Zb8sU2o5t"
      }
    },
    {
      "cell_type": "code",
      "source": [
        "def executa_busca_linear(lista, valor):\n",
        "  separacao = lista.split() #professora esqueceu disso\n",
        "  for elemento in separacao:\n",
        "    if valor == elemento:\n",
        "      print(f\"Posição = {separacao.index(elemento)}\")\n",
        "      return True\n",
        "    return False\n",
        "\n",
        "executa_busca_linear('voce e eu', 'voce')"
      ],
      "metadata": {
        "colab": {
          "base_uri": "https://localhost:8080/"
        },
        "id": "5qVybudK3J8V",
        "outputId": "6d83c1f0-5c8d-4318-e8c4-dfe20f7eb540"
      },
      "execution_count": null,
      "outputs": [
        {
          "output_type": "stream",
          "name": "stdout",
          "text": [
            "Posição = 0\n"
          ]
        },
        {
          "output_type": "execute_result",
          "data": {
            "text/plain": [
              "True"
            ]
          },
          "metadata": {},
          "execution_count": 1
        }
      ]
    },
    {
      "cell_type": "markdown",
      "source": [
        "## Estrutura de Dados em Python\n",
        "### Objetos do tipo sequência\n",
        "\n",
        "Essas estruturas de dados representam sequências finitas indexadas por números não negativos. \n",
        "\n",
        "\n",
        "O primeiro elemento de uma sequência ocupa o índice 0; o segundo o índice 1, o último elemento, a posição n-1, em que n é a capacidade de armazenamento da sequência."
      ],
      "metadata": {
        "id": "qH7vTBXwAJAT"
      }
    },
    {
      "cell_type": "code",
      "source": [
        "# ex\n",
        "texto = \"Aprendendo Python na disciplina de linguagem de programação.\"\n",
        "\n",
        "print(f\"Tamanho do texto = {len(texto)}\")\n",
        "print(f\"Python in texto = {'Python' in texto}\")\n",
        "print(f\"Quantidade de y no texto = {texto.count('y')}\")\n",
        "print(f\"As primeiras 5 letras são = {texto[0:6]}\")"
      ],
      "metadata": {
        "colab": {
          "base_uri": "https://localhost:8080/"
        },
        "id": "HJwcx55vAoVw",
        "outputId": "74094bf8-d2f8-4262-d3ce-5bd84c469fad"
      },
      "execution_count": null,
      "outputs": [
        {
          "output_type": "stream",
          "name": "stdout",
          "text": [
            "Tamanho do texto = 60\n",
            "Python in texto = True\n",
            "Quantidade de y no texto = 1\n",
            "As primeiras 5 letras são = Aprend\n"
          ]
        }
      ]
    },
    {
      "cell_type": "markdown",
      "source": [
        "Por meio de uma estrutura de repetição, imprimimos cada elemento da lista juntamente com seu índice. Veja que a sequência possui a função index, que retorna a posição de um valor na sequência."
      ],
      "metadata": {
        "id": "Kzc1xXDjDJhN"
      }
    },
    {
      "cell_type": "code",
      "source": [
        "vogais = ['a', 'e', 'i', 'o', 'u']\n",
        "\n",
        "for vogal in vogais:\n",
        "  print(f'Posição = {vogais.index(vogal)}, valor = {vogal}')"
      ],
      "metadata": {
        "colab": {
          "base_uri": "https://localhost:8080/"
        },
        "id": "kx4eD3SCDJR9",
        "outputId": "80061d70-e3dc-45b2-d052-ca6d8aff919a"
      },
      "execution_count": null,
      "outputs": [
        {
          "output_type": "stream",
          "name": "stdout",
          "text": [
            "Posição = 0, valor = a\n",
            "Posição = 1, valor = e\n",
            "Posição = 2, valor = i\n",
            "Posição = 3, valor = o\n",
            "Posição = 4, valor = u\n"
          ]
        }
      ]
    },
    {
      "cell_type": "markdown",
      "source": [
        "#### Função Split\n",
        "\n",
        "ela é usada para \"cortar\" um texto e transformá-lo em uma lista. Essa função pode ser usada sem nenhum parâmetro: texto.split(). Nesse caso, a string será cortada a cada espaço em branco que for encontrado. Caso seja passado um parâmetro: texto.split(\",\"), então o corte será feito no parâmetro especificado."
      ],
      "metadata": {
        "id": "XscRjJU6EEBU"
      }
    },
    {
      "cell_type": "code",
      "source": [
        "# ex\n",
        "texto = \"Aprendendo Python na disciplina de linguagem de programação.\"\n",
        "\n",
        "print(f\"texto = {texto}\")\n",
        "print(f\"Tamanho do texto = {len(texto)}\")\n",
        "\n",
        "palavras = texto.split()\n",
        "\n",
        "print(f'Palavras = {palavras}')\n",
        "print(f'Tamanho de palavras = {len(palavras)}')"
      ],
      "metadata": {
        "colab": {
          "base_uri": "https://localhost:8080/"
        },
        "id": "7tPgUSM-EgZ0",
        "outputId": "5b4cfa14-d776-4776-adf8-2af0dce95207"
      },
      "execution_count": null,
      "outputs": [
        {
          "output_type": "stream",
          "name": "stdout",
          "text": [
            "texto = Aprendendo Python na disciplina de linguagem de programação.\n",
            "Tamanho do texto = 60\n",
            "Palavras = ['Aprendendo', 'Python', 'na', 'disciplina', 'de', 'linguagem', 'de', 'programação.']\n",
            "Tamanho de palavras = 8\n"
          ]
        }
      ]
    },
    {
      "cell_type": "markdown",
      "source": [
        "#### Compreensões de lista (list comprehension)\n",
        "\n",
        "A list comprehension, também pode ser chamada de listcomp. <br>\n",
        "Esse é um tipo de técnica utilizada quando, dada uma sequência, deseja-se criar uma nova sequência, porém com as informações originais transformadas ou filtradas por um critério.\n",
        "\n",
        "##### Lista\n",
        "\n",
        "É uma estrutura de dados do tipo sequencial que possui como principal característica é <strong>ser mutável</strong>. Ou seja, novos valores podem ser adicionados ou removidos da sequência. Em python, as listas podem ser construídas de várias maneiras:\n",
        "\n",
        "* Usando um par de colchetes para denotar uma lista vazia: <br>\n",
        "lista1 = []\n",
        "\n",
        "* Usando um par de colchetes e elementos separados por vírgulas: <br>\n",
        "lista2 = ['a', 'b', 'c']\n",
        "\n",
        "* Usando uma list comprehension: <br>\n",
        "[x for x in iterable]\n",
        "\n",
        "* Usando o construtor de tipo: <br>\n",
        "list()"
      ],
      "metadata": {
        "id": "lZrZsCm0t13h"
      }
    },
    {
      "cell_type": "code",
      "source": [
        "# exemplos\n",
        "\n",
        "linguagens = ['Python', 'Java', 'Javascript', 'C', 'C#', 'C++', 'Swift', 'Go', \n",
        "              'Kotlin']\n",
        "print(f'Antes da listcomp = {linguagens}')\n",
        "\n",
        "langs = [item.lower() for item in linguagens]\n",
        "print(f'Depois da listcomp = {langs}')"
      ],
      "metadata": {
        "colab": {
          "base_uri": "https://localhost:8080/"
        },
        "id": "7fAovoQbuJ_6",
        "outputId": "4e90c575-8203-4017-fdd6-f43582cb241c"
      },
      "execution_count": null,
      "outputs": [
        {
          "output_type": "stream",
          "name": "stdout",
          "text": [
            "Antes da listcomp = ['Python', 'Java', 'Javascript', 'C', 'C#', 'C++', 'Swift', 'Go', 'Kotlin']\n",
            "Depois da listcomp = ['python', 'java', 'javascript', 'c', 'c#', 'c++', 'swift', 'go', 'kotlin']\n"
          ]
        }
      ]
    },
    {
      "cell_type": "markdown",
      "source": [
        "#### Funções map() e filter()\n",
        "\n",
        "Funções built-in que são usadas por esse tipo de estrutura de dados: map() e filter().\n",
        "\n",
        "A função <strong>map()</strong> é utilizada para aplicar uma determinada função em cada item de um objeto iterável.\n",
        "\n",
        "Para que essa transformação seja feita, a função map() exige que sejam passados dois parâmetros: a função e o objeto iterável."
      ],
      "metadata": {
        "id": "LvflhZWOxDR9"
      }
    },
    {
      "cell_type": "code",
      "source": [
        "# exemplo\n",
        "\n",
        "linguagens = '''Python Java Javascript C C# C++ Swift Go Kotlin'''.split()\n",
        "nova_lista = map(lambda x: x.lower(), linguagens)\n",
        "print(f'A nova lista é = {nova_lista}\\n')\n",
        "nova_lista = list(nova_lista)\n",
        "print(f'Agora sim, a nova lista é = {nova_lista}')"
      ],
      "metadata": {
        "colab": {
          "base_uri": "https://localhost:8080/"
        },
        "id": "qVJ0hL5f5KpY",
        "outputId": "50525788-62f5-440a-c98c-b9e75b374125"
      },
      "execution_count": null,
      "outputs": [
        {
          "output_type": "stream",
          "name": "stdout",
          "text": [
            "A nova lista é = <map object at 0x7f15357872e0>\n",
            "\n",
            "Agora sim, a nova lista é = ['python', 'java', 'javascript', 'c', 'c#', 'c++', 'swift', 'go', 'kotlin']\n"
          ]
        }
      ]
    },
    {
      "cell_type": "markdown",
      "source": [
        "#### Função Range\n",
        "\n",
        "A função range() cria um objeto numérico iterável. Então usamos o construtor list() para transformá-lo em uma lista com números, que variam de 0 a 20. Lembre-se de que o limite suuperior do argumento da função range() não é incluído. Na linha 3, criamos uma nova lista com a função filter, que, com a utilização da expressão lambda, retorna somente os valores pares."
      ],
      "metadata": {
        "id": "slgTQ3MP6I1V"
      }
    },
    {
      "cell_type": "code",
      "source": [
        "numeros = list(range(0, 21))\n",
        "\n",
        "numeros_pares = list(filter(lambda x: x % 2 == 0, numeros))\n",
        "\n",
        "print(numeros_pares)"
      ],
      "metadata": {
        "colab": {
          "base_uri": "https://localhost:8080/"
        },
        "id": "optM-VSm6oc1",
        "outputId": "85e3b9ea-9847-46b9-e320-d70b98037aed"
      },
      "execution_count": null,
      "outputs": [
        {
          "output_type": "stream",
          "name": "stdout",
          "text": [
            "[0, 2, 4, 6, 8, 10, 12, 14, 16, 18, 20]\n"
          ]
        }
      ]
    },
    {
      "cell_type": "markdown",
      "source": [
        "### Tuplas\n",
        "\n",
        "A grande diferença entre listas e tuplas é que a primeira é mutável, já as tuplas não são. Todos os objetos passados nas tuplas são imutáveis.\n",
        "\n",
        "\n",
        "Em alguns casos, mais de uma estrutura realmente pode resolver o problema, mas em outros não. Como tupla é imutável, sua utilização ocorre em casos nos quais a ordem dos elementos é importante e não pode ser alterada, já que o objeto tuple garante essa característica. A função enumerate(), que normalmente usamos nas estruturas de repetição, retorna uma tupla cujo primeiro elemento é sempre o índice da posição e cujo segundo elemento é o valor em si."
      ],
      "metadata": {
        "id": "42AY1p_p7Oz8"
      }
    },
    {
      "cell_type": "code",
      "source": [
        "vogais = ('a', 'e', 'i', 'o', 'u')\n",
        "print(f'Tipo do objeto vogais = {type(vogais)}')\n",
        "\n",
        "for index, valor in enumerate(vogais):\n",
        "  print(f'Posição = {index}, valor = {valor}')"
      ],
      "metadata": {
        "colab": {
          "base_uri": "https://localhost:8080/"
        },
        "id": "XI97y-I87fvv",
        "outputId": "f10cf333-8cba-459d-bbdc-2003d0594036"
      },
      "execution_count": null,
      "outputs": [
        {
          "output_type": "stream",
          "name": "stdout",
          "text": [
            "Tipo do objeto vogais = <class 'tuple'>\n",
            "Posição = 0, valor = a\n",
            "Posição = 1, valor = e\n",
            "Posição = 2, valor = i\n",
            "Posição = 3, valor = o\n",
            "Posição = 4, valor = u\n"
          ]
        }
      ]
    },
    {
      "cell_type": "markdown",
      "source": [
        "### Set\n",
        "\n",
        "A tradução de conjunto para set nos leva diretamente à essência desse tipo de estrutura de dados em Python. Um objeto do tipo Set habilita operações matemáticas de conjuntos, tais como: união, intersecção, diferença, etc. Esse tipo de estrutura pode ser usado, portanto, em testes de associação e remoção de valores duplicados de uma sequência.\n",
        "\n",
        "\n",
        "Um exemplo disso é a utilização dos algoritmos de busca in e not in.\n",
        "\n",
        "\n",
        "Além dessas operações, podemos também adicionar um novo elemento a um conjunto com a função add(valor). Também podemos remover com remove(valor). Em Python, os objetos do tipo set podem ser construídos destas maneiras:\n",
        "\n",
        "* Usando um par de chaves e elementos separados por vírgulas: <br>\n",
        "set1 = {'a', 'b', 'c'}\n",
        "\n",
        "* Usando o construtor de tipo: <br>\n",
        "set(iterable)"
      ],
      "metadata": {
        "id": "01fK_sQ9FLdU"
      }
    },
    {
      "cell_type": "markdown",
      "source": [
        "### Mapping\n",
        "\n",
        "As estruturas de dados que possuem um mapeamento entre uma chave e um valor são consideradas objetos do tipo mapping. Em Python, o objeto que possui essa proriedade é o dict (dicionário). Uma vez que esse objeto é mutável, conseguimos atribuir um novo valor a uma chave já existente.\n",
        "\n",
        "\n",
        "Podemos construir dicionários em python da seguinte forma:\n",
        "\n",
        "* Usando um par de chaves para denotar um dict vazio: <br>\n",
        "dic1 = {}\n",
        "\n",
        "* Usando um par de elementos na forma de *chave: valor*, separados por vírgulas: <br>\n",
        "dic2 = {'one': 1, 'two': 2, 'three': 3}\n",
        "\n",
        "* Usando construtor: <br>\n",
        "dict()\n",
        "\n",
        "Não é possível construir um conjunto (set) vazio com set = {}, pois essa é a forma de construção de um dicionário.\n",
        "\n",
        "Para construir com utilização da função set(iterable), obrigatoriamente temos de passar um objeto iterável para ser transformado em conjunto.\n",
        "\n",
        "Esse objeto pode ser uma lista, uma tupla ou até memso uma string (que é um tipo de sequência)."
      ],
      "metadata": {
        "id": "uvqHsf2uIMIp"
      }
    },
    {
      "cell_type": "code",
      "source": [
        "# exe1 - criação de dicionário vazio com atribuição posterior de chave e valor\n",
        "dici_1 = {}\n",
        "dici_1['nome'] = 'Cássio'\n",
        "dici_1['idade'] = 22\n",
        "\n",
        "\n",
        "# exe2 - criando um dicionário usando um par de elementos na forma, chave : valor\n",
        "dici_2 = {'nome': 'Cássio', 'idade': 22}\n",
        "\n",
        "\n",
        "# exe3 - criação de dicionário com uma lista de tuplas. Cada tupla representa um par chave : valor\n",
        "\n",
        "dici_3 = dict([('nome', \"Cássio\"), ('idade', 22)])\n",
        "\n",
        "print(\"Resultado do dicionário 1: \", dici_1)\n",
        "print(\"Resultado do dicionário 2: \", dici_2)\n",
        "print(\"Resultado do dicionário 3: \", dici_3)"
      ],
      "metadata": {
        "colab": {
          "base_uri": "https://localhost:8080/"
        },
        "id": "wIgBtLwjKR2-",
        "outputId": "a127ad1f-f9c0-4215-8c90-7e2b94d72b1d"
      },
      "execution_count": null,
      "outputs": [
        {
          "output_type": "stream",
          "name": "stdout",
          "text": [
            "Resultado do dicionário 1:  {'nome': 'Cássio', 'idade': 22}\n",
            "Resultado do dicionário 2:  {'nome': 'Cássio', 'idade': 22}\n",
            "Resultado do dicionário 3:  {'nome': 'Cássio', 'idade': 22}\n"
          ]
        }
      ]
    },
    {
      "cell_type": "markdown",
      "source": [
        "### Array NumPy\n",
        "\n",
        "O caso da biblioteca NumPy, criada especificamente para a computação científica com Python. O NumPy contém entre outras coisas:\n",
        "\n",
        "* Um poderoso objeto de matriz (array) N-dimensional.\n",
        "* Funções sofisticadas\n",
        "* Ferramentas para integrar código C/C++ e Fortran.\n",
        "* Recursos úteis de álgebra linear, transformação de Fourier e números aleatórios."
      ],
      "metadata": {
        "id": "eU3PcNMaLmcW"
      }
    },
    {
      "cell_type": "code",
      "source": [
        "import numpy as np\n",
        "\n",
        "matriz_1 = np.array([1, 2, 3]) # cria matriz 1 linha e 1 coluna\n",
        "matriz_2 = np.array([[1, 2], [3, 4]]) # cria matriz de 2 linhas e 2 colunas\n",
        "matriz_3 = np.array([[1, 2], [3, 4], [5, 6]]) # cria matriz de 3 linhas e 2 colunas\n",
        "matriz_4 = np.array([[1, 2, 3],[4, 5, 6]]) # cria matriz de 2 linhas e 3 colunas\n",
        "\n",
        "print(type(matriz_1))\n",
        "print('\\n Matriz_1 = ' , matriz_1)\n",
        "print('\\n Matriz_2 = \\n' , matriz_2)\n",
        "print('\\n Matriz_3 = \\n' , matriz_3)\n",
        "print('\\n Matriz_4 = \\n' , matriz_4)"
      ],
      "metadata": {
        "colab": {
          "base_uri": "https://localhost:8080/"
        },
        "id": "0SjjQhSNMeYQ",
        "outputId": "39a2207f-c8a6-4154-891c-8900f36479bb"
      },
      "execution_count": null,
      "outputs": [
        {
          "output_type": "stream",
          "name": "stdout",
          "text": [
            "<class 'numpy.ndarray'>\n",
            "\n",
            " Matriz_1 =  [1 2 3]\n",
            "\n",
            " Matriz_2 = \n",
            " [[1 2]\n",
            " [3 4]]\n",
            "\n",
            " Matriz_3 = \n",
            " [[1 2]\n",
            " [3 4]\n",
            " [5 6]]\n",
            "\n",
            " Matriz_4 = \n",
            " [[1 2 3]\n",
            " [4 5 6]]\n"
          ]
        }
      ]
    },
    {
      "cell_type": "markdown",
      "source": [
        "# Algoritmos de busca - parte 2\n",
        "\n",
        "## Complexidade\n",
        "\n",
        "Em termos computacionais, um algoritmo é considerado melhor que outro quando, para a mesma entrada, utiliza menos recursos computacionais em termos de memória e processamento.\n",
        "\n",
        "Estudo de viabilidade de um algoritmo, em termos de espaço e de processamento, é chamado de análise da complexidade do algoritmo.\n",
        "\n",
        "Análise de complexidade é feita em duas dimensões: espaço e tempo.\n",
        "\n",
        "Podemos, então, concluir que a análise de complexidade de um algoritmo tem como um dos grandes objetivos encontrar o comportamento do algoritmo (a função matemática) em relação ao tempo de execução para o pior caso, ao que chamaos de complexidade assintótica.\n",
        "\n",
        "## Busca binária\n",
        "\n",
        "Outro algoritmo usado para buscar um valor em uma sequência é o de busca binária. A primeira grande diferença entre algoritmo de busca linear e o algoritmo de busca binária é que, com este último, os valores precisam ser ordenados.\n",
        "\n",
        "### A lógica é o seguinte\n",
        "* Encontra o item no meio da sequência (meio da lista)\n",
        "* Se o valor procurado for igual ao item do meio, a busca se encerra.\n",
        "* Se não for, verifica-se se o valor buscado é maior ou menos que o valor central.\n",
        "* Se for maior, então a busca acontecerá na metade superior da sequência (a inferior é descatada); se não for, a busca acontecerá na metade inferior da sequência (a superior é descartada).\n",
        "\n",
        "Veja que o algoritmo, ao encontrar o valor central de uma sequência, a divide em duas partes, o que justifica o nome de busca binária.\n",
        "\n",
        "Suponha que tenhamos uma lista com 1024 elementos. Na primeira iteração do loop, ao encontrar o meio e excluir uma parte, a lista a ser buscada já é diminuída para 515. Na segunda iteração, novamente ao encontrar o meio e excluir uma parte, restam 256 elementos. Na terceira iteração, restam 128. Na quarta, restam 64. Na quinta, restam 32. Na sexta, restam 16. Na sétima 8. Na oitava, 4. Na nona, 2. Na décima iteração resta apenas o 1 elemento. Ou seja, para 1024 elementos, no pior caso, o loop será executado apenas 10x, diferentemente da busca linear, na qual a iteração aconteceria 1024x (no pior caso)."
      ],
      "metadata": {
        "id": "G3SnItKvUakL"
      }
    },
    {
      "cell_type": "code",
      "source": [
        "# exemplo de busca binária\n",
        "\n",
        "def executar_busca_binaria(lista, valor):\n",
        "  minimo = 0\n",
        "  maximo = len(lista) - 1\n",
        "\n",
        "  while minimo <= maximo:\n",
        "    # ecnontra o elemento que divide a lista ao meio\n",
        "    meio = (minimo + maximo) // 2\n",
        "    # verifica se o valor procurado está a esquerda ou direita do valor central\n",
        "    if valor < lista[meio]:\n",
        "      maximo = meio - 1\n",
        "    elif valor > lista[meio]:\n",
        "      minimo = meio + 1\n",
        "    else:\n",
        "      return True # se o valor for encontrado para aqui.\n",
        "    \n",
        "  return False # se chegar até aqui, significa que o valor não foi encontrado."
      ],
      "metadata": {
        "id": "eQl2YJRMlmig"
      },
      "execution_count": null,
      "outputs": []
    },
    {
      "cell_type": "markdown",
      "source": [
        "## Quais as vantagens e limitações da busca sequencial?\n",
        "\n",
        "Busca sequencial, é a forma mais simples de busca, percorre-se registro por registro em busca da chave.\n",
        "\n",
        "Na melhor das hipóteses, a chave de busca estará na posição 0. Portanto, teremos um único acesso em lista[0]. Possui resultados melhores para quantidades pequena e média de buscas. Na pior das hipóteses, a chave é o último elemento ou não pertence à lista e, portanto, acessamos todos os n elementos da lista. Perda de eficiência para os outros registros, o método é mais caro."
      ],
      "metadata": {
        "id": "4BL1pjbtmztC"
      }
    },
    {
      "cell_type": "markdown",
      "source": [
        "# Algoritmos de Ordenação\n",
        "\n",
        "A essência dos algoritmos de ordenação consiste em comparar dois valores, verificar qual é menor e colocá-lo na posição correta.\n",
        "\n",
        "O que vai mudar, neste caso, é como e quando a comparação é feita. Para que possamos começar a entender a essência dos algoritmos de ordenação.\n",
        "\n",
        "\n",
        "Em python, existem duas ormas já programadas que nos permitem ordenar uma sequência:\n",
        "* A função sorted()\n",
        "* O método sort().\n",
        "\n",
        "Ambos estão presentes nos objetos da classe list."
      ],
      "metadata": {
        "id": "C5OLjSYfRjcA"
      }
    },
    {
      "cell_type": "code",
      "source": [
        "lista = [10, 4, 1, 15, -3]\n",
        "\n",
        "lista_ordenada1 = sorted(lista)\n",
        "lista_ordenada2 = lista.sort()\n",
        "\n",
        "print('Lista = ', lista, '\\n')\n",
        "\n",
        "print('Lista ordenada 1 = ', lista_ordenada1)\n",
        "print('Lista ordenada 2 = ', lista_ordenada2)\n",
        "\n",
        "print('Lista = ', lista)"
      ],
      "metadata": {
        "colab": {
          "base_uri": "https://localhost:8080/"
        },
        "id": "42aURXwxUQr8",
        "outputId": "5abb5908-15f1-4569-cb32-0cd95a77a255"
      },
      "execution_count": null,
      "outputs": [
        {
          "output_type": "stream",
          "name": "stdout",
          "text": [
            "Lista =  [-3, 1, 4, 10, 15] \n",
            "\n",
            "Lista ordenada 2 =  None\n",
            "Lista =  [-3, 1, 4, 10, 15]\n"
          ]
        }
      ]
    },
    {
      "cell_type": "code",
      "source": [
        "# Criação de algoritmo de ordenação\n",
        "\n",
        "lista = [7, 4]\n",
        "\n",
        "if lista[0] > lista[1]:\n",
        "  aux = lista[1]\n",
        "  lista[1] = lista[0]\n",
        "  lista[0] = aux\n",
        "\n",
        "print(lista)"
      ],
      "metadata": {
        "colab": {
          "base_uri": "https://localhost:8080/"
        },
        "id": "r2-nV_N8X143",
        "outputId": "81d3bc85-4bb2-4ca0-fa8b-fdb4b433246c"
      },
      "execution_count": null,
      "outputs": [
        {
          "output_type": "stream",
          "name": "stdout",
          "text": [
            "[4, 7]\n"
          ]
        }
      ]
    },
    {
      "cell_type": "code",
      "source": [
        "# ou ainda\n",
        "lista = [5, -1]\n",
        "\n",
        "if lista[0] > lista[1]:\n",
        "  lista[0], lista[1] = lista[1], lista[0]\n",
        "print(lista)"
      ],
      "metadata": {
        "colab": {
          "base_uri": "https://localhost:8080/"
        },
        "id": "8zKTYUvgYc0O",
        "outputId": "ac802bf2-5e99-490c-c244-67ff8d49508a"
      },
      "execution_count": null,
      "outputs": [
        {
          "output_type": "stream",
          "name": "stdout",
          "text": [
            "[-1, 5]\n"
          ]
        }
      ]
    },
    {
      "cell_type": "markdown",
      "source": [
        "## Selection sort (ordenação por seleção)\n",
        "\n",
        "Este algoritmo tem esse nome por fazer a ordenação sempre escolhendo o menor valor para ocupar uma determinada posição.\n",
        "\n",
        "### A lógica é o seguinte:\n",
        "\n",
        "Iteração1: percorre toda a lista, procurando o menor valor para ocupar a posição 0.\n",
        "\n",
        "Iteração2: a partir da posição 1, percorre toda a lista, procurando o menor valor para ocupar a posição 1.\n",
        "\n",
        "Iterçação3: a partir da posição 2, percorre toda a lista, procurando o menor valor para ocupar a posição 2.\n",
        "\n",
        "Esse processo é repetido N-1 vezes, sendo N o tamanho da lista."
      ],
      "metadata": {
        "id": "Rew8CnLgYvWX"
      }
    },
    {
      "cell_type": "code",
      "source": [
        "def executar_selection_sort(lista):\n",
        "  n = len(lista)\n",
        "  for i in range(0, n):\n",
        "    index_menor = i\n",
        "    for j in range(i+1, n):\n",
        "      if lista[j] < lista[index_menor]:\n",
        "        index_menor = j\n",
        "      lista[i], lista[index_menor] = lista[index_menor], lista[i]\n",
        "  return lista\n",
        "\n",
        "lista = [10, 9, 5, 8, 11, 3]\n",
        "print(executar_selection_sort(lista))"
      ],
      "metadata": {
        "colab": {
          "base_uri": "https://localhost:8080/"
        },
        "id": "yts1kV3Gac-U",
        "outputId": "b9e8197d-9c05-4873-98b2-b6bbf184e1b9"
      },
      "execution_count": null,
      "outputs": [
        {
          "output_type": "stream",
          "name": "stdout",
          "text": [
            "[3, 5, 8, 9, 10, 11]\n"
          ]
        }
      ]
    },
    {
      "cell_type": "markdown",
      "source": [
        "## Bubble sort (Ordenação por bolha)\n",
        "\n",
        "Esse algoritmo faz a ordenação sempre a partir do início da lista, comparando um valor com seu vizinho. Esse processo é repetido até que todos os \"valores\" estejam na posição correta.\n",
        "\n",
        "### A lógica é a seguinte:\n",
        "\n",
        "Iteração1: selecione o valor na posição 0 e o compara com seu vizinho - se for menor, há troca; se não for, selecione o próximo e compara, repetindo o processo.\n",
        "\n",
        "Iteração2: selecione o valor na posição 0 e o compara com seu vizinho - se for menor, há troca; se não for, selecione o próximo e compara, repetindo o processo.\n",
        "\n",
        "Iteração2: selecione o valor na posição 0 e o compara com seu vizinho - se for menor, há troca; se não for, selecione o próximo e compara, repetindo o processo.\n"
      ],
      "metadata": {
        "id": "q15hvNgObeCi"
      }
    },
    {
      "cell_type": "code",
      "source": [
        "# bubble sort\n",
        "def executar_bubble_sort(lista):\n",
        "  n = len(lista)\n",
        "  for i in range(n-1):\n",
        "    for j in range(n-1):\n",
        "      if lista[j] > lista[j+1]:\n",
        "        lista[j], lista[j + 1] = lista[j + 1], lista[j]\n",
        "  return lista\n",
        "\n",
        "lista = [10, 9, 5, 8, 11, -1, 3]\n",
        "executar_bubble_sort(lista)"
      ],
      "metadata": {
        "colab": {
          "base_uri": "https://localhost:8080/"
        },
        "id": "6uqkNdZD-Y8x",
        "outputId": "721f188e-329a-4212-c578-a437c9a0265b"
      },
      "execution_count": null,
      "outputs": [
        {
          "output_type": "execute_result",
          "data": {
            "text/plain": [
              "[-1, 3, 5, 8, 9, 10, 11]"
            ]
          },
          "metadata": {},
          "execution_count": 1
        }
      ]
    },
    {
      "cell_type": "markdown",
      "source": [
        "## Merge Sort (ordenação por junção)\n",
        "\n",
        "Este algoritmo faz a ordenação em duas etapas: <br>\n",
        "_Dividir para conquistar_\n",
        "\n",
        "1. divide a lista em sublistas\n",
        "2. e junta (merge) as sublistas já ordenadas.\n",
        "\n",
        "O paradigma dividir para conquisar envolve três etapas em cada nível de recursão:\n",
        "\n",
        "1. dividir o problema em vários subproblemas\n",
        "2. conquistar os subproblemas, resolvendo-os recursivamente - se os tamanhos dos subproblemas forem pequenos o suficiente, apenas resolva os subproblemas de maneira direta.\n",
        "3. combinar as soluções dos subproblemas na solução problema original.\n",
        "\n",
        "### Etapa de divisão\n",
        "* com base na lista original, encontre o meio e separe-a em duas listas: esquerda_1 e direita_2\n",
        "* Com base na sublista esquerda_1, se a quantidade de elementos for maior que 1, encontre o meio e separe-a em duas listas: esquerda_1_1 e direita_1_1\n",
        "* Com base na sublista esquerda_1_1, se a quantidade de elementos for maior que 1, encontre o meio e separe-a em duas listas: esquerda_1_2 e direita_1_2\n",
        "* Repita o processo até encontrar uma lista com tamanho 1.\n",
        "* Chame a etapa de merge\n",
        "* Repita o processo para todas as sublistas"
      ],
      "metadata": {
        "id": "gikxSDt9_2c_"
      }
    },
    {
      "cell_type": "markdown",
      "source": [
        "# Conceitos de orientação a objetos\n",
        "\n",
        "<strong>\n",
        "  O que são objetos e o que as classes têm a ver com eles?\n",
        "</strong>\n",
        "\n",
        "Uma classe é uma abstração que descreve entidades do mundo real e quando instanciadas dão origem a objetos com características similares.\n",
        "\n",
        "Portanto, a classe é o modelo e objeto é uma instância.\n",
        "\n",
        "### Abstração de classes e objetos\n",
        "Objetos são os componentes de um programa OO. Um programa que usa  a tecnologia OO é basicamente uma coleção de objetos.\n",
        "\n",
        "Uma classe é um modelo para um objeto. Podemos considerar uma classe uma forma de organizar dados (de um objeto) e seus comportamentos (PSF, 2020a). A classe é o modelo e o obejto é uma instância.\n",
        "\n",
        "Entende-se por instância a existência física, em memória, do objeto.\n",
        "\n",
        "### Atributos\n",
        "Os dados armazenados em um objeto representam o estado do objeto. Na terminologia de programação OO, esses dados são chamados de atributos. Os atriutos contêm as informações que diferenciam os vários objetos - os funcionários, neste caso. Atributos são, portanto, as características de um objeto, essas características tmbém são conhecidas como variáveis, utilizando o exemplo dos cães, temos alguns atributos, tais como: cor, peso, altura e nome.\n",
        "\n",
        "public class Cachorro { <br>\n",
        "  - public String nome; <br>\n",
        "  - public float peso; <br>\n",
        "  - public float altura; <br>\n",
        "  - public String cor; <br>\n",
        "}\n",
        "\n",
        "### Métodos\n",
        "Nas linguagens procedurais, o comportamento é definido por procesdimentos, funções e sub-rotinas. Na terminologia OO, esses comportamentos estão contigos nos métodos, aos quais você envia uma mensagem para invocá-los.\n",
        "\n",
        "Métodos, portanto, são as ações que os objetos podem exercer quando solicitados, onde podem interagir e se comunicarem com outros objetos, utilizando o exemplo dos cães, temos alguns exemplos: latir, correr, pular.\n",
        "\n",
        "public class Cachorro { <br>\n",
        "  - public String nome; <br>\n",
        "  - public float peso; <br>\n",
        "  - public float altura; <br>\n",
        "  - public String cor; <br>\n",
        "\n",
        "  void pular { <br>\n",
        "    - if (altura >= 80) { <br>\n",
        "      - System.out.printIn(\"Seu cachorro pula alto\"); \n",
        "      <br>\n",
        "    } <br>\n",
        "  } <br>\n",
        "  <br>\n",
        "}\n",
        "\n",
        "### Herança\n",
        "\n",
        "Por meio desse mecanismo, é possível fazer o reuso de código, criando soluções mais organizadas.\n",
        "\n",
        "A herança permite que uma classe herde os atributos e métodos de outra classe.\n",
        "\n",
        "Observe, na figura [slide], que as classes funcionário e cliente herdam os atributos da classe pessoa. A classe pessoa pode ser chamada de classe-pai, classe-base, superclasse, ancestral; por sua vez, classes derivadas são as classes filhas, subclasses.\n",
        "\n",
        "### Encapsulamento\n",
        "O ato de combinar os atributoes e métodos na mesma entidade é, na linguagem OO, chamado de encapsulamento (Weisfeld, 2013), termo que também aparece na prática de tornar atributos privados, quando estes são encapsulados em métodos para guardar e acessar seus valores.\n",
        "\n",
        "Isso se chama _Ocultação de informação_ e é muito importante na programação (para manter a integridade).\n",
        "\n",
        "As classes encapsulam dados e comportamento em cima desses dados.\n",
        "\n",
        "### Polimorfismo\n",
        "Quando uma mensagem é enviada para um objeto, este deve ter um método definido para responder a essa mensagem. Em uma hierarquia de herança, todas as subclasses herdam interfaces de sua superclasse.\n",
        "\n",
        "No entando, como toda subclasse é uma entidade separada, cada uma delas pode exigir uma resposta separada para a mesma mensagem.\n",
        "\n",
        "Polimorfismo significa \"muitas formas\", é o termo definido em linguagens orientadas a objetos, que permite ao desenvolvedor usar o mesmo elemento de formas diferentes."
      ],
      "metadata": {
        "id": "Bvj64BuwFaiZ"
      }
    },
    {
      "cell_type": "markdown",
      "source": [
        "## Classes em Python\n",
        "Utiliza-se a palavra reservada class para indicar a criação de uma classe, seguida do nome e dois pontos. No bloco identado devem ser implementados os atributos e métodos da classe."
      ],
      "metadata": {
        "id": "zQol01DOVnp6"
      }
    },
    {
      "cell_type": "code",
      "source": [
        "# exemplo de classe\n",
        "class PrimeiraClasse:\n",
        "  def imprimir_mensagem(self, nome): # cria método\n",
        "    print(f'Olá {nome}, seja bem-vindo')\n",
        "    obj1 = PrimeiraClasse() # instanciando um objeto do tipo PrimeiraClasse\n",
        "    obj1.imprimir_mensagem('João') # Invocando o método"
      ],
      "metadata": {
        "id": "d9esyR3zV2Cg"
      },
      "execution_count": null,
      "outputs": []
    },
    {
      "cell_type": "markdown",
      "source": [
        "### Construtor da classe\n",
        "\n",
        "Atributos de instância, também chamadas de variáveis de instâncias.\n",
        "\n",
        "Esse tipo de atributo é capaz de receber um valor diferente para cada objeto.\n",
        "\n",
        "Um atributo de instância é uma variável precedida com o parâmetro self, ou seja, a sintaxe para criar e utilizar é self.nome_atributo.\n",
        "\n",
        "Ao instanciar um novo objeto, é possível determinar um estado inicial para variáveis de instância por meio do método construtor da classe.\n",
        "\n",
        "Em python, o método construtor é chamado de __init__().\n"
      ],
      "metadata": {
        "id": "TMm-alEiW1zv"
      }
    },
    {
      "cell_type": "code",
      "source": [
        "# exemplo\n",
        "\n",
        "class Televisao:\n",
        "  def __init__(self):\n",
        "    self.volume = 10\n",
        "  def aumentar_volume(self):\n",
        "    self.volume += 1\n",
        "  def diminuir_volume(self):\n",
        "    self.volume -= 1\n",
        "\n",
        "tv = Televisao()\n",
        "print('Volume ao ligar a tv = ', tv.volume)\n",
        "tv.aumentar_volume()\n",
        "print(\"Volume atual = \", tv.volume)"
      ],
      "metadata": {
        "colab": {
          "base_uri": "https://localhost:8080/"
        },
        "id": "FTWPR5BmXrPP",
        "outputId": "5294b821-f3cf-4673-f9c9-5d2bca9b0fb7"
      },
      "execution_count": null,
      "outputs": [
        {
          "output_type": "stream",
          "name": "stdout",
          "text": [
            "Volume ao ligar a tv =  10\n",
            "Volume atual =  11\n"
          ]
        }
      ]
    },
    {
      "cell_type": "markdown",
      "source": [
        "Criamos a classe Televisao, que possui um atributo de instância e três métodos, o primeiro dos quais é (__init__), aquele que é invocado quando o objeto é instanciado.\n",
        "\n",
        "Nesse método construtor, instaciamos o atributo volume com o valor 10, ou seja, todo objeto do tipo Televisao será criado com o volume = 10. Veja que o atributo recebe o prefixo self., que o identifica como variável de instância."
      ],
      "metadata": {
        "id": "Ybhza8ViY13W"
      }
    },
    {
      "cell_type": "markdown",
      "source": [
        "### Variáveis e métodos privados\n",
        "Em linguagens de programação OO, como Java e C#, as classes, os atributos e os métodos são acompanhados de modificadores de acesso, que podem ser: public, private ou protected.\n",
        "\n",
        "Em python, _não_ existem modificadores de acesso e todos os recursos são públicos. Para simbolizar que um atributo ou método é privado, por convenção, usa-se um sublinhado \"_\" antes do nome;\n",
        "\n",
        "Por exemplo: _cpf, _calcular_desconto().\n",
        "\n",
        "Conceitualmente, dado que um atributo é privado, ele só pode ser acessado por um membro da própria classe. Portanto, ao declarar um atributo privado, precisamos de métodos que acessem e recuperam os valores ali guardados. Em python, além de métodos para este fim, um atributo privado pode ser acessado por decorator."
      ],
      "metadata": {
        "id": "r-g2WsRZfxik"
      }
    },
    {
      "cell_type": "code",
      "source": [
        "# Exemplo de variáveis e métodos privados\n",
        "\n",
        "class ContaCorrente:\n",
        "  def __init__(self):\n",
        "    self._saldo = None\n",
        "  def depositar(self, valor):\n",
        "    self._saldo += valor\n",
        "  def consultar_saldo(self):\n",
        "    return self._saldo"
      ],
      "metadata": {
        "id": "iPWgRQwymDfr"
      },
      "execution_count": null,
      "outputs": []
    },
    {
      "cell_type": "markdown",
      "source": [
        "Implementamos a classe ContaCorrente, que possui dois atributos privados: _cpf e _saldo. Para guardar um valor no atributo cpf, deve-se chamar o método set_cpf, e, para recuperar seu valor, usa-se get_cpf.\n",
        "\n",
        "*Lembre-se: em python, atributos e métodos privados são apenas uma convenção, pois, na prática, os recursos podem ser acessados de qualquer forma.*"
      ],
      "metadata": {
        "id": "-Rf8XHapyuML"
      }
    },
    {
      "cell_type": "markdown",
      "source": [
        "## Herança em Python\n",
        "Em python, uma classe aceita múltiplas heranças, ou seja, herda recursos de diversas classes. A sintaxe para criar a herança é feita com parênteses após o nome da classe. class NomeClasseFilha(NomeClassePai).\n",
        "\n",
        "Se for uma herança múltipla, cada superclasse deve ser separada por vírgula."
      ],
      "metadata": {
        "id": "B-wwHR_0zkMa"
      }
    },
    {
      "cell_type": "code",
      "source": [
        "# exemplo herança\n",
        "\n",
        "class Pessoa:\n",
        "  def __init__(self):\n",
        "    self.cpf = None\n",
        "    self.nome = None\n",
        "    self.endereco = None\n",
        "  \n",
        "class Funcionario(Pessoa):\n",
        "  def __init__(self):\n",
        "    self.matricula = None\n",
        "    self.salario = None\n",
        "  def bater_ponto(self):\n",
        "    # código aqui\n",
        "    pass\n",
        "  def fazer_login(self):\n",
        "    # código aqui\n",
        "    pass\n",
        "\n",
        "\n",
        "f1 = Funcionario()\n",
        "f1.nome = \"Funcionário 1\"\n",
        "print(f1.nome)\n",
        "\n",
        "s1 = Funcionario()\n",
        "s1.salario = 'R$1800'\n",
        "print(s1.salario)"
      ],
      "metadata": {
        "colab": {
          "base_uri": "https://localhost:8080/"
        },
        "id": "rreX7mEl0WXv",
        "outputId": "872ab421-2b59-4bd6-8231-23b815aefa94"
      },
      "execution_count": null,
      "outputs": [
        {
          "output_type": "stream",
          "name": "stdout",
          "text": [
            "Funcionário 1\n",
            "R$1800\n"
          ]
        }
      ]
    },
    {
      "cell_type": "markdown",
      "source": [
        "### Métodos mágicos em python\n",
        "Quando uma classe é criada em Python, ela herda, mesmo que não declarada explicitmente, todos os recursos de uma classe-base chamada object.\n",
        "\n",
        "Veja o resultado da função dir(), que retorna uma lista com os recursos de um objeto. A classe Pessoa, que explicitamente não tem nenhuma herança, possui uma série de recursos nos quais os nomes estão com underline (sublinhado). Todos eles são chamados de métodos mágicos e, com a herança, podem ser sobrescritos."
      ],
      "metadata": {
        "id": "AF2b_gCJ1rRO"
      }
    },
    {
      "cell_type": "code",
      "source": [
        "print(dir(Pessoa()))"
      ],
      "metadata": {
        "colab": {
          "base_uri": "https://localhost:8080/"
        },
        "id": "xsMQHVN1InSg",
        "outputId": "0473b68f-5586-4769-ca2d-8b65e27d6a65"
      },
      "execution_count": null,
      "outputs": [
        {
          "output_type": "stream",
          "name": "stdout",
          "text": [
            "['__class__', '__delattr__', '__dict__', '__dir__', '__doc__', '__eq__', '__format__', '__ge__', '__getattribute__', '__gt__', '__hash__', '__init__', '__init_subclass__', '__le__', '__lt__', '__module__', '__ne__', '__new__', '__reduce__', '__reduce_ex__', '__repr__', '__setattr__', '__sizeof__', '__str__', '__subclasshook__', '__weakref__', 'cpf', 'endereco', 'nome']\n"
          ]
        }
      ]
    },
    {
      "cell_type": "markdown",
      "source": [
        "## Método construtor na herança e sobrescrita\n",
        "Na herança, quando adicionamos a função __init__(), a classe-filho não herdará o construtor dos pais. Ou seja, o construtor da classe-filho sobrescreve (override) o da classe-pai. Para utilizar o construtor da classebase, é necessário invocá-lo explicitamente, dentro do construtor-filho, da seguinte forma:\n",
        "\n",
        "ClassePai.__init__().\n",
        "\n",
        "## Herança múltipla\n",
        "Python permite que uma classe-filha gerde recursos de mais de uma superclasse. Para isso, basta declarar cada classe a ser herdada separada por vírgula."
      ],
      "metadata": {
        "id": "Ee_loW89JH04"
      }
    },
    {
      "cell_type": "markdown",
      "source": [
        "# Bibliotecas e módulos em python\n",
        "\n",
        "Um módulo pode ser uma biblioteca de códigos, o qual possui diversas funções (matemáticas, sistema operacional, etc) as quais possibilitam a reutilização de código de uma forma elegante e eficiente.\n",
        "\n",
        "\n",
        "Uma opção para organizar o código é implementar funções, contexto em que cada blogo passa a ser responsável por uma determinada funcionalidade. Outra forma é utilizar a orientação a objetos e criar classes que encapsulam as características e os comportamentos de um determinado objeto.\n",
        "\n",
        "Conseguimos utilizar ambas as técnicas para melhorar o código, mas, ainda assim, estamos falando de toda a solução agrupada em um arquivo Python (.py)\n",
        "\n",
        "## Como utilizar um módulo\n",
        "Para utilizar um módulo é preciso importá-lo para o arquivo. Essa importação pode ser feita de maneiras distintas:\n",
        "* import moduloXXText\n",
        "* import moduloXXText as apelido\n",
        "* from moduloXXText import itemA, itemB\n",
        "\n",
        "A forma de importação tamb[em determina a sintaxe para utilizar a funcionalidade.\n",
        "\n",
        "## Classificação dos módulos (bibliotecas)\n",
        "Três categorias, cada uma das quais vamos estudar:\n",
        "* Módulos built-in: embutidos no interpretador\n",
        "* Módulos de terceiros: criados por terceiros e disponibilizados via PyPi.\n",
        "* Módulos próprios: criados pelo desenvolvedor.\n",
        "\n",
        "<br>\n",
        "\n",
        "### módulos built-in\n",
        "* Módulos built-in: Como estão embutidos no interpretador, esses módulos não precisam de nenhuma instalação adicional\n",
        "* Módulo random: Random é um módulo built-in usado para criar números aleatórios,\n",
        "*  Módulo os: OS é um módulo built-in usado para executar comandos no sistema operacional\n",
        "* Módulo re: re (regular expression) fornece funções para busca de padrões em um texto. Uma expressão regular especifica um conjunto de strings que corresponde a ela. As funções neste módulo permitem verificar se uma determinada string corresponde a uma determinada expressão regular.\n",
        "* Módulo datetime: Trabalhar com datas é um desafio nas mais diversas linguagens de programação. Em python há um módulos built-in capaz de lidar com as datas e horas. O módulo datetime fornece classes para manipular datas e horas.\n",
        "\n",
        "### Módulos de terceiros\n",
        "Programadores autônomos e empresas podem, com isso, criar uma solução em python e disponibilizar em forma de biblioteca no repositório PyPI, o que permite que todos usufruam e contribuam para o crescimento da linguagem.\n",
        "\n",
        "Para utilizar uma biblioteca do repositório PyPI, é preciso instalá-la.\n",
        "\n",
        "A grande vantagem de usar bibliotecas é que elas encapsulam a complexidade de uma determinada tarefa, razão pela qual, com poucas linhas de código, conseguimos realizar tarefas complexas.\n",
        "\n",
        "#### exemplo de bibliotecas amplamente utilizadas:\n",
        "* Bibliotecas para tratamento de imagens\n",
        "* Bibliotecas para visualização de dados\n",
        "* Bibliotecas para tratamento de dados\n",
        "* Bibliotecas para tratamento de textos\n",
        "* Internet, rede e cloud\n",
        "* Bibliotecas para acesso a banco de dados\n",
        "* Deep Learning - Machine Learning\n",
        "* Bibliotecas para jogos - PyGame\n",
        "\n",
        "### Biblioteca requests\n",
        "A biblioteca requests habilita funcionalidades do protocolo HTTP, como get e o post. Dentre seus métodos, o get é o responsável por capturar informação da internet. O método get() permite que você informe a URL de que deseja obter informação.\n",
        "\n",
        "Sua sintaxe é: requests.get('http://xxxxxxx')\n",
        "\n",
        "_para outros parâmetros, como autenticação, cabeçalhos, etc. Consulte a documentação._\n",
        "\n",
        "Exemplo:"
      ],
      "metadata": {
        "id": "Zg-cLqgRGFir"
      }
    },
    {
      "cell_type": "code",
      "source": [
        "import requests\n",
        "info = requests.get('https://api.github.com/events')\n",
        "info.headers"
      ],
      "metadata": {
        "colab": {
          "base_uri": "https://localhost:8080/"
        },
        "id": "Tr9l2_TIPe8Y",
        "outputId": "9b3e69ca-beed-4b5a-fa7e-09b06005bb6e"
      },
      "execution_count": null,
      "outputs": [
        {
          "output_type": "execute_result",
          "data": {
            "text/plain": [
              "{'Server': 'GitHub.com', 'Date': 'Sat, 15 Apr 2023 14:07:51 GMT', 'Content-Type': 'application/json; charset=utf-8', 'Cache-Control': 'public, max-age=60, s-maxage=60', 'Vary': 'Accept, Accept-Encoding, Accept, X-Requested-With', 'ETag': 'W/\"7a480efc4247a9fac8229d2db8e9e4152900fb9d25c1e32dfca198f13891ea2d\"', 'Last-Modified': 'Sat, 15 Apr 2023 14:02:51 GMT', 'X-Poll-Interval': '60', 'X-GitHub-Media-Type': 'github.v3; format=json', 'Link': '<https://api.github.com/events?page=2>; rel=\"next\", <https://api.github.com/events?page=10>; rel=\"last\"', 'x-github-api-version-selected': '2022-11-28', 'Access-Control-Expose-Headers': 'ETag, Link, Location, Retry-After, X-GitHub-OTP, X-RateLimit-Limit, X-RateLimit-Remaining, X-RateLimit-Used, X-RateLimit-Resource, X-RateLimit-Reset, X-OAuth-Scopes, X-Accepted-OAuth-Scopes, X-Poll-Interval, X-GitHub-Media-Type, X-GitHub-SSO, X-GitHub-Request-Id, Deprecation, Sunset', 'Access-Control-Allow-Origin': '*', 'Strict-Transport-Security': 'max-age=31536000; includeSubdomains; preload', 'X-Frame-Options': 'deny', 'X-Content-Type-Options': 'nosniff', 'X-XSS-Protection': '0', 'Referrer-Policy': 'origin-when-cross-origin, strict-origin-when-cross-origin', 'Content-Security-Policy': \"default-src 'none'\", 'Content-Encoding': 'gzip', 'X-RateLimit-Limit': '60', 'X-RateLimit-Remaining': '59', 'X-RateLimit-Reset': '1681571271', 'X-RateLimit-Resource': 'core', 'X-RateLimit-Used': '1', 'Accept-Ranges': 'bytes', 'Transfer-Encoding': 'chunked', 'X-GitHub-Request-Id': 'C2DA:7AB6:15A4234:2C811EA:643AAFB7'}"
            ]
          },
          "metadata": {},
          "execution_count": 5
        }
      ]
    },
    {
      "cell_type": "markdown",
      "source": [
        "### Matplotlib\n",
        "É uma biblioteca com funcionalidades para criar gráficos. A quantidade de funcionalidades embutidas em uma biblioteca traz um universo de possibilidades ao desenvolvedor. Consulte sempre a documentação e os fóruns para acompanhar as novidades.\n",
        "\n",
        "## Módulos próprios\n",
        "* Os códigos podem ser organizados em diversos arquivos com extensão .py, ou seja, em módulos.\n",
        "* Cada módulo pode importar outros módulos, tanto os pertencentes ao mesmo projeto, como os built-in ou de terceiros\n",
        "* É dentro do módulo principal que vamos utiiliza a funcionalidade de conexão para copiar um arquivo que está em um servidor para outro local.\n",
        "* É importante ressaltar que, da forma pela qual fizemos a importação, ambos os arquivos .py precisam estar no mesmo nível de pasta. Se precisarmos usar o módulo utils em vários projetos, é interessante transformá-lo em uma biblioteca e disponibilizá-la via PyPI."
      ],
      "metadata": {
        "id": "cqpsdVlaQDTd"
      }
    },
    {
      "cell_type": "markdown",
      "source": [
        "# Aplicação de banco de dados com python\n",
        "Os sistemas de banco de dados podem ser divididos em duas categorias: banco de dados relacional e banco de dados NoSQL.\n",
        "\n",
        "Na teoria base dos bancos de dados relacionais, os dados são persistidos em uma estrutura bidimensional, chamada de relação (que é uma tabela), que está baseada na teoria dos conjuntos pertencentes à matemática. Cada unidade de dados é conhecida como coluna, ao passo que cada unidde do grupo é conhecida como linha, tupla ou registro.\n",
        "\n",
        "## NoSQL\n",
        "É usado para abordar a classe de bancos de dados que não seguem os princípios de gerenciamento de banco de dados relacional (RDBMS) e são projetos especificamente para lidar com a velocidade e a escala de aplicações.\n",
        "\n",
        "## Linguagem de consulta estruturada (SQL)\n",
        "SQL (structered query language) é a linguagem que permite aos usuários se comunicarem com banco de dados relacionais.\n",
        "\n",
        "As instruções da linguagem SQL são divididas em três grupos: DDL, DML, DCL.\n",
        "\n",
        "### DDL (data definition language). \n",
        "Fazem parte deste grupo as instruções destinadas a criar, deletar e modificar banco de dados e tabelas. Neste módulo vão aparecer comandos como CREATE, o ALTER e o DROP.\n",
        "\n",
        "### DML (Data manipulation language)\n",
        "Fazem parte deste grupo as instruções destinadas a recuperar, atualizar, adicionar ou excluir dados em um banco de dados. Neste módulo vão aparecer comandos como INSERT, UPDATE e DELETE.\n",
        "\n",
        "### DCL (Data control language)\n",
        "Fazem parte deste grupo as instruções destinadas a manter a segurança adequada para o banco de dados. Neste módulo vão aparecer comandos como GRANT e REVOKE.\n",
        "\n",
        "## Conexão com banco de dades relacional\n",
        "Para fazer a conexão e permitir que uma linguagem de programação se comunique com um banco de dados com a utilização da linguagem sql, podemos usar as tecnologias ODBC (open Database Connectivity) e JDBC (Java Database Connectivity)/\n",
        "\n",
        "A grande vantagem de utilizar tecnologias ODBC ou JDBC está no fato de que uma aplicação pode acessar diferentes RBDMS sem precisar recompilar o código. Essa transparência é possível porque a comunicação direta com RDBMS é feita por um driver. Um driver é um software específico responsável por traduzir chamadas ODBC e JDBC para a linguagem do RDBMS.\n",
        "\n",
        "## Conexão de bd com Python\n",
        "Para se comunicar com um RDBMS em Python,podemos utilizar bibliotecas já disponíveis, com uso das quais, por meio do driver de um determinado fornecedor, será possível fazer a conexão e a execução de comandos SQL no banco.\n",
        "\n",
        "Por exemplo, para se conectar com um banco Oracle, podemos usar a lib cs-Oracle, ou, para se conectar com um PostgreSQL, temos o psycopg2.\n",
        "\n",
        "## Banco de dados SQLite\n",
        "\n",
        "Essa tecnologia pode ser embutida em telefones celulares e computadores e vem incluída em inúmeros aplicativos que as pessoas usam todos os dias. Ao passo que a maioria dos bancos de dados SQL usa um servidor para rodar e gerenciar, o SQLite não possui processo de servidor separado.\n",
        "\n",
        "O SQLite lê e grava diretamente em arquivos de disco, ou seja, um banco de dados SQL completo com várias tabelas, índices, triggers e visualizações está contido em um único arquivo de disco.\n",
        "\n",
        "O interpretador Python possui o módulo built-in sqlite3, que permite utilizar o mercanismo de banco de dados SQLite.\n",
        "\n",
        "## Criando um banco de dados\n",
        "O primeiro passo é importar o módulo sqlite3. Em razão da natureza do SQLite (ser um arquivo no disco rígido), ao nos conectarmos a um banco, o arquivo é imediatamente criado na pasta do projeto."
      ],
      "metadata": {
        "id": "3kO_0hdxT-O4"
      }
    },
    {
      "cell_type": "code",
      "source": [
        "import sqlite3\n",
        "conn = sqlite3.connect('aulaDB.db')\n",
        "print(type(conn))"
      ],
      "metadata": {
        "colab": {
          "base_uri": "https://localhost:8080/"
        },
        "id": "KU1dcH210h0k",
        "outputId": "ddfe363d-8149-4942-930f-3cf65b09baac"
      },
      "execution_count": null,
      "outputs": [
        {
          "output_type": "stream",
          "name": "stdout",
          "text": [
            "<class 'sqlite3.Connection'>\n"
          ]
        }
      ]
    },
    {
      "cell_type": "markdown",
      "source": [
        "Dessa forma, podemos criar instruções do tipo DDL da linguagem SQL para criar a tabela fornecedor. O comando SQL que cria a tabela fornecedor está no código a seguir:"
      ],
      "metadata": {
        "id": "SD2v2vrh01OC"
      }
    },
    {
      "cell_type": "code",
      "source": [
        "ddl_create = \"\"\"\n",
        "CREATE TABLE fornecedor (\n",
        "  id_fornecedor INTEGER NOT NULL PRIMARY KEY AUTOINCREMENT,\n",
        "  nome_fornecedor TEXT NOT NULL,\n",
        "  cnpj VARCHAR(18) NOT NULL,\n",
        "  cidade TEXT,\n",
        "  estado VARCHAR(2) NOT NULL,\n",
        "  cep VARCHAR(9) NOT NULL,\n",
        "  data_cadastro DATE NOT NULL\n",
        ");\n",
        "\"\"\""
      ],
      "metadata": {
        "id": "vT1Enuxt0_MV"
      },
      "execution_count": null,
      "outputs": []
    },
    {
      "cell_type": "markdown",
      "source": [
        "Para que esse comando seja executado no banco, utilizamos o mecanismo, segundo o PEP 249, deve estar implementado em um método chamado execute() de um objeto cursor.\n",
        "\n",
        "Logo, sempre que precisarmos executar um comando SQL no banco usando a linguagem Python, usaremos um cursos para construir essa ponta.\n",
        "\n",
        "Além de criar a tabela, também podemos excluí-la utilizando \"DRO TABLE table_name\"."
      ],
      "metadata": {
        "id": "zbabHUAS1iVW"
      }
    },
    {
      "cell_type": "code",
      "source": [
        "# exemplo\n",
        "cursor = conn.cursor()\n",
        "cursor.execute(ddl_create)\n",
        "print(type(cursor))\n",
        "print('Tabela criada!')\n",
        "print('descrição do cursor: ', cursor.description)\n",
        "print('Linhas afetadas: ', cursor.rowcount)\n",
        "cursor.close()\n",
        "conn.close()"
      ],
      "metadata": {
        "colab": {
          "base_uri": "https://localhost:8080/"
        },
        "id": "wr2GOwzU2IBR",
        "outputId": "ceabba11-07cd-4c93-833e-c5b4f84739c7"
      },
      "execution_count": null,
      "outputs": [
        {
          "output_type": "stream",
          "name": "stdout",
          "text": [
            "<class 'sqlite3.Cursor'>\n",
            "Tabela criada!\n",
            "descrição do cursor:  None\n",
            "Linhas afetadas:  -1\n"
          ]
        }
      ]
    },
    {
      "cell_type": "markdown",
      "source": [
        "## CRUD - create, read, update and delete\n",
        "CRUD é um acrônimo para as quatro operações DML que podemos fazer em uma tabela no banco de dados. Podemos inserir informações (create), ler (read), atualizar (update) e deletar (delete).\n",
        "\n",
        "Os passos necessários para efetuar uma das operações CRUD são sempre os mesmos: (i) estabelecer a conexão com um banco de dados; (ii) criar um cursor e executar o comando; (iii) gravar a operação; (iv) fechar o cursor e a conexão.\n",
        "\n",
        "Além das operações, é importante sabermos extrair informações estruturais do banco de dados e das tableas. Os comandos necessários para extrair essas informações podem mudar entre os bancos.\n",
        "\n",
        "### CREATE\n",
        "Uma maneira mais prática de inserir vários registros é passar uma lista de tuplas, na qual cada uma destas contém os dados a serem inseridos em uma linha. Nesse caso, teremos que usar o método executemany() do cursor.\n",
        "### READ\n",
        "Recuperar os dados. Também precisamos estabelecer uma conexão e criar um objeto cursor para executar a instrução de seleção. Ao executar a seleção, podemos usar o méotodo fetchall() para capturar todas as linhas, através de uma lista de tuplas.\n",
        "### UPDATE\n",
        "Ao inserir um registro no banco, pode ser necessário alterar o valor de uma coluna, o que pode ser feito por meio da instrução SQL UPDATE.\n",
        "### DELETE\n",
        "Ao inserir um registro no banco, pode ser necessário removê-lo no futuro, o que pode ser feito por meio da instrução SQL DELETE."
      ],
      "metadata": {
        "id": "uBoPzx7F22eB"
      }
    }
  ]
}